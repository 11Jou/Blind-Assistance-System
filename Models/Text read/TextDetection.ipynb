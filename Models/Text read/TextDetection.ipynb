{
 "cells": [
  {
   "cell_type": "code",
   "execution_count": 16,
   "id": "67051ba9",
   "metadata": {},
   "outputs": [],
   "source": [
    "import cv2\n",
    "from gtts import gTTS\n",
    "import os\n",
    "from langdetect import detect\n",
    "import pytesseract\n",
    "from pytesseract import pytesseract\n",
    "import matplotlib.image as mpimg657\n",
    "import matplotlib.pyplot as plt\n",
    "\n",
    "path_to_tesseract = r'C:\\Program Files\\Tesseract-OCR\\tesseract.exe'\n",
    "pytesseract.tesseract_cmd = path_to_tesseract"
   ]
  },
  {
   "cell_type": "code",
   "execution_count": 17,
   "id": "937192f4",
   "metadata": {},
   "outputs": [],
   "source": [
    "myconfig = r\"--psm 3 --oem 3\""
   ]
  },
  {
   "cell_type": "code",
   "execution_count": 25,
   "id": "e3414bd8",
   "metadata": {},
   "outputs": [],
   "source": [
    "img= cv2.imread('image1.png')"
   ]
  },
  {
   "cell_type": "code",
   "execution_count": 26,
   "id": "9c29e363",
   "metadata": {},
   "outputs": [
    {
     "data": {
      "text/plain": [
       "'\\ncam_port = 0\\ncam = VideoCapture(cam_port)\\n  \\n# reading the input using the camera\\nresult, image = cam.read()\\n  \\n# If image will detected without any error, \\n# show result\\nif result:\\n  \\n    # showing result, it take frame name and image \\n    # output\\n    #imshow(\"photo\", image)\\n  \\n    # saving image in local storage\\n    #imwrite(\"photo.png\", image)\\n  \\n    # If keyboard interrupt occurs, destroy image \\n    # window\\n    waitKey(0)\\n    destroyWindow(\"photo\")\\n  \\n# If captured image is corrupted, moving to else part\\nelse:\\n    print(\"No image detected. Please! try again\")\\n'"
      ]
     },
     "execution_count": 26,
     "metadata": {},
     "output_type": "execute_result"
    }
   ],
   "source": [
    "'''\n",
    "cam_port = 0\n",
    "cam = VideoCapture(cam_port)\n",
    "  \n",
    "# reading the input using the camera\n",
    "result, image = cam.read()\n",
    "  \n",
    "# If image will detected without any error, \n",
    "# show result\n",
    "if result:\n",
    "  \n",
    "    # showing result, it take frame name and image \n",
    "    # output\n",
    "    #imshow(\"photo\", image)\n",
    "  \n",
    "    # saving image in local storage\n",
    "    #imwrite(\"photo.png\", image)\n",
    "  \n",
    "    # If keyboard interrupt occurs, destroy image \n",
    "    # window\n",
    "    waitKey(0)\n",
    "    destroyWindow(\"photo\")\n",
    "  \n",
    "# If captured image is corrupted, moving to else part\n",
    "else:\n",
    "    print(\"No image detected. Please! try again\")\n",
    "'''"
   ]
  },
  {
   "cell_type": "code",
   "execution_count": 27,
   "id": "023ea45e",
   "metadata": {},
   "outputs": [
    {
     "name": "stdout",
     "output_type": "stream",
     "text": [
      "There exist several methods to design forms with fields to\n",
      "fields may be surrounded by bounding boxes, by light rectangles o\n",
      "methods specififwhere to write and, therefore, minimize the effe\n",
      "with other parts-efihe form. These guides can be located on as\n",
      "8 located below the formvor they can be printed directly on the f\n",
      "a separate sheel is much better from thepoint.of view of the qu\n",
      "but requires giving more instructions and, more importantly, rest\n",
      "this type of acquisition is used. Guiding rulersprinted on the\n",
      "used for this reason. Light rectangles can béremoved more easily\n",
      "whenever the handwritten text touches the rulers. Nevertheless,\n",
      "beltaken into account: The best way to pring thewellight mecha\n",
      "\n",
      "\n"
     ]
    }
   ],
   "source": [
    "\n",
    "text = pytesseract.image_to_string(img, config=myconfig, lang='eng')\n",
    "print(text)"
   ]
  },
  {
   "cell_type": "code",
   "execution_count": 28,
   "id": "397f0832",
   "metadata": {},
   "outputs": [
    {
     "data": {
      "text/plain": [
       "0"
      ]
     },
     "execution_count": 28,
     "metadata": {},
     "output_type": "execute_result"
    }
   ],
   "source": [
    "lang = detect(text) \n",
    "myobj = gTTS(text=text, lang=lang , slow=False , lang_check=True)\n",
    "  \n",
    " \n",
    "myobj.save(\"welcome.mp3\")\n",
    "  \n",
    "# Playing the converted file\n",
    "os.system(\"welcome.mp3\")"
   ]
  },
  {
   "cell_type": "code",
   "execution_count": null,
   "id": "0c15c074",
   "metadata": {},
   "outputs": [],
   "source": []
  }
 ],
 "metadata": {
  "kernelspec": {
   "display_name": "Python 3",
   "language": "python",
   "name": "python3"
  },
  "language_info": {
   "codemirror_mode": {
    "name": "ipython",
    "version": 3
   },
   "file_extension": ".py",
   "mimetype": "text/x-python",
   "name": "python",
   "nbconvert_exporter": "python",
   "pygments_lexer": "ipython3",
   "version": "3.8.10"
  }
 },
 "nbformat": 4,
 "nbformat_minor": 5
}
