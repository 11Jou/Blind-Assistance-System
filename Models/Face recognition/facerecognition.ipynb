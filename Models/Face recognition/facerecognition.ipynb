{
 "cells": [
  {
   "cell_type": "code",
   "execution_count": 1,
   "id": "d6de7dc5",
   "metadata": {},
   "outputs": [],
   "source": [
    "import cv2\n",
    "import face_recognition"
   ]
  },
  {
   "cell_type": "code",
   "execution_count": 2,
   "id": "9af4f56c",
   "metadata": {},
   "outputs": [],
   "source": [
    "img = cv2.imread(\"images/Rahma.jpeg\")\n",
    "rgb_img = cv2.cvtColor(img, cv2.COLOR_BGR2RGB)\n",
    "img_encoding = face_recognition.face_encodings(rgb_img)[0]"
   ]
  },
  {
   "cell_type": "code",
   "execution_count": 3,
   "id": "57db0d00",
   "metadata": {},
   "outputs": [],
   "source": [
    "img2 = cv2.imread(\"images/r.jpeg\")\n",
    "rgb_img2 = cv2.cvtColor(img2, cv2.COLOR_BGR2RGB)\n",
    "img_encoding2 = face_recognition.face_encodings(rgb_img2)[0]"
   ]
  },
  {
   "cell_type": "code",
   "execution_count": 4,
   "id": "f2bd0e25",
   "metadata": {},
   "outputs": [
    {
     "name": "stdout",
     "output_type": "stream",
     "text": [
      "Result:  [True]\n"
     ]
    }
   ],
   "source": [
    "result = face_recognition.compare_faces([img_encoding], img_encoding2)\n",
    "print(\"Result: \", result)"
   ]
  },
  {
   "cell_type": "code",
   "execution_count": 2,
   "id": "76f194f5",
   "metadata": {},
   "outputs": [],
   "source": [
    "from simple_facerec import SimpleFacerec"
   ]
  },
  {
   "cell_type": "code",
   "execution_count": 3,
   "id": "4f350059",
   "metadata": {},
   "outputs": [
    {
     "name": "stdout",
     "output_type": "stream",
     "text": [
      "27 encoding images found.\n",
      "No faces found in the image!\n",
      "No faces found in the image!\n",
      "Encoding images loaded\n"
     ]
    }
   ],
   "source": [
    "# Encode faces from a folder\n",
    "sfr = SimpleFacerec()\n",
    "\n",
    "sfr.load_encoding_images(\"images/*\")"
   ]
  },
  {
   "cell_type": "code",
   "execution_count": null,
   "id": "60eb07f6",
   "metadata": {},
   "outputs": [],
   "source": [
    "# Load Camera\n",
    "cap = cv2.VideoCapture(0)\n",
    "\n",
    "\n",
    "while True:\n",
    "    ret, frame = cap.read()\n",
    "        # Detect Faces\n",
    "        \n",
    "    face_locations,face_names = sfr.detect_known_faces(frame)\n",
    "    \n",
    "    for face_loc, name in zip(face_locations, face_names):\n",
    "        \n",
    "        y1, x2, y2, x1 = face_loc[0], face_loc[1], face_loc[2], face_loc[3]\n",
    "        \n",
    "        cv2.putText(frame,name,(x1, y1 - 10), cv2.FONT_HERSHEY_DUPLEX, 1, (0, 0, 200), 2)\n",
    "        cv2.rectangle(frame, (x1, y1), (x2, y2), (0, 0, 200), 4)\n",
    "\n",
    "    cv2.imshow(\"Frame\", frame)\n",
    "\n",
    "    key = cv2.waitKey(1)\n",
    "    if key == 27:\n",
    "        break"
   ]
  },
  {
   "cell_type": "code",
   "execution_count": null,
   "id": "4d04e1a9",
   "metadata": {},
   "outputs": [],
   "source": []
  }
 ],
 "metadata": {
  "kernelspec": {
   "display_name": "Python 3 (ipykernel)",
   "language": "python",
   "name": "python3"
  },
  "language_info": {
   "codemirror_mode": {
    "name": "ipython",
    "version": 3
   },
   "file_extension": ".py",
   "mimetype": "text/x-python",
   "name": "python",
   "nbconvert_exporter": "python",
   "pygments_lexer": "ipython3",
   "version": "3.9.13"
  }
 },
 "nbformat": 4,
 "nbformat_minor": 5
}
