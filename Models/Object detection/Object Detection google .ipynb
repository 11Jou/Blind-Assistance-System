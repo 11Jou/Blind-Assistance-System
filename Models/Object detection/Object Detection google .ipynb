{
 "cells": [
  {
   "cell_type": "code",
   "execution_count": 1,
   "metadata": {},
   "outputs": [
    {
     "name": "stderr",
     "output_type": "stream",
     "text": [
      "c:\\Python310\\lib\\site-packages\\numpy\\_distributor_init.py:30: UserWarning: loaded more than 1 DLL from .libs:\n",
      "c:\\Python310\\lib\\site-packages\\numpy\\.libs\\libopenblas.EL2C6PLE4ZYW3ECEVIV3OXXGRN2NRFM2.gfortran-win_amd64.dll\n",
      "c:\\Python310\\lib\\site-packages\\numpy\\.libs\\libopenblas.XWYDX2IKJW2NMTWSFYNGFUWKQU3LYTCZ.gfortran-win_amd64.dll\n",
      "  warnings.warn(\"loaded more than 1 DLL from .libs:\"\n"
     ]
    }
   ],
   "source": [
    "import io, os\n",
    "from numpy import random\n",
    "from google.cloud import vision\n",
    "from Pillow_Utility import draw_borders, Image\n",
    "import pandas as pd"
   ]
  },
  {
   "cell_type": "code",
   "execution_count": 2,
   "metadata": {},
   "outputs": [],
   "source": [
    "os.environ['GOOGLE_APPLICATION_CREDENTIALS'] = r\"ServiceAccountToken.json\"\n",
    "\n",
    "client = vision.ImageAnnotatorClient()\n"
   ]
  },
  {
   "cell_type": "code",
   "execution_count": 3,
   "metadata": {},
   "outputs": [],
   "source": [
    "file_name = 'object11.png'\n",
    "image_path = rf'C:\\Users\\BluRay\\OneDrive\\Desktop\\GoogleVision\\VisionAPIDemo\\ObjectDetection\\{file_name}'\n",
    "\n",
    "with io.open(image_path, 'rb') as image_file:\n",
    "    content = image_file.read()"
   ]
  },
  {
   "cell_type": "code",
   "execution_count": 4,
   "metadata": {},
   "outputs": [],
   "source": [
    "# construct an iamge instance\n",
    "image = vision.Image(content=content)\n",
    "response = client.object_localization(image=image)\n",
    "localized_object_annotations = response.localized_object_annotations"
   ]
  },
  {
   "cell_type": "code",
   "execution_count": 5,
   "metadata": {},
   "outputs": [
    {
     "name": "stderr",
     "output_type": "stream",
     "text": [
      "C:\\Users\\BluRay\\AppData\\Local\\Temp\\ipykernel_14812\\2386184883.py:4: FutureWarning: The frame.append method is deprecated and will be removed from pandas in a future version. Use pandas.concat instead.\n",
      "  df = df.append(\n"
     ]
    },
    {
     "name": "stdout",
     "output_type": "stream",
     "text": [
      "    name    score\n",
      "0  Watch  0.96852\n"
     ]
    }
   ],
   "source": [
    "pillow_image = Image.open(image_path)\n",
    "df = pd.DataFrame(columns=['name', 'score'])\n",
    "for obj in localized_object_annotations:\n",
    "    df = df.append(\n",
    "        dict(\n",
    "            name=obj.name,\n",
    "            score=obj.score\n",
    "        ),\n",
    "        ignore_index=True)\n",
    "    \n",
    "    r, g, b = random.randint(150, 255), random.randint(\n",
    "        150, 255), random.randint(150, 255)\n",
    "\n",
    "    draw_borders(pillow_image, obj.bounding_poly, (r, g, b),\n",
    "                 pillow_image.size, obj.name, obj.score)\n",
    "\n",
    "print(df)\n",
    "pillow_image.show()"
   ]
  },
  {
   "cell_type": "code",
   "execution_count": null,
   "metadata": {},
   "outputs": [],
   "source": []
  }
 ],
 "metadata": {
  "kernelspec": {
   "display_name": "Python 3.10.4 64-bit",
   "language": "python",
   "name": "python3"
  },
  "language_info": {
   "codemirror_mode": {
    "name": "ipython",
    "version": 3
   },
   "file_extension": ".py",
   "mimetype": "text/x-python",
   "name": "python",
   "nbconvert_exporter": "python",
   "pygments_lexer": "ipython3",
   "version": "3.10.4"
  },
  "orig_nbformat": 4,
  "vscode": {
   "interpreter": {
    "hash": "369f2c481f4da34e4445cda3fffd2e751bd1c4d706f27375911949ba6bb62e1c"
   }
  }
 },
 "nbformat": 4,
 "nbformat_minor": 2
}
